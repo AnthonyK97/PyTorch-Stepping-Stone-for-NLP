{
 "cells": [
  {
   "cell_type": "markdown",
   "metadata": {},
   "source": [
    "# 0-4 自动微分机制\n",
    "\n",
    "神经网络通常依赖反向传播求梯度来更新网络参数，求梯度过程通常是一件非常复杂而容易出错的事情。\n",
    "\n",
    "而深度学习框架可以帮助我们自动地完成这种求梯度运算。\n",
    "\n",
    "Pytorch一般通过反向传播 backward 方法 实现这种求梯度计算。该方法求得的梯度将存在对应自变量张量的grad属性下。\n",
    "\n",
    "除此之外，也能够调用torch.autograd.grad 函数来实现求梯度计算。\n",
    "\n",
    "这就是Pytorch的自动微分机制。"
   ]
  },
  {
   "cell_type": "markdown",
   "metadata": {},
   "source": [
    "## 一、利用backward求导数\n",
    "\n",
    "backward方法通常在一个标量张量上调用，该方法求得的梯度将存在对应自变量张量的grad属性下。\n",
    "\n",
    "如果调用的张量非标量，则要传入一个和它同形状的gradient参数张量。\n",
    "\n",
    "相当于用该gradient参数张量与调用张量作向量点乘，得到的标量结果再反向传播。\n",
    "\n",
    "### 1. 标量的反向传播"
   ]
  },
  {
   "cell_type": "code",
   "execution_count": 1,
   "metadata": {},
   "outputs": [],
   "source": [
    "import torch\n",
    "import numpy as np"
   ]
  },
  {
   "cell_type": "code",
   "execution_count": 2,
   "metadata": {},
   "outputs": [
    {
     "name": "stdout",
     "output_type": "stream",
     "text": [
      "tensor(-2.)\n"
     ]
    }
   ],
   "source": [
    "# 求f(x) = a*x**2 + b*x + c的导数\n",
    "\n",
    "x = torch.tensor(0.0, requires_grad = True) # x被求导\n",
    "a = torch.tensor(1.0)\n",
    "b = torch.tensor(-2.0)\n",
    "c = torch.tensor(1.0)\n",
    "y = a*torch.pow(x, 2) + b*x + c\n",
    "\n",
    "y.backward()\n",
    "dy_dx = x.grad\n",
    "print(dy_dx)"
   ]
  },
  {
   "cell_type": "markdown",
   "metadata": {},
   "source": [
    "### 2. 非标量的反向传播"
   ]
  },
  {
   "cell_type": "code",
   "execution_count": 3,
   "metadata": {},
   "outputs": [
    {
     "name": "stdout",
     "output_type": "stream",
     "text": [
      "x:\n",
      " tensor([[0., 0.],\n",
      "        [1., 2.]], requires_grad=True)\n",
      "y:\n",
      " tensor([[1., 1.],\n",
      "        [0., 1.]], grad_fn=<AddBackward0>)\n",
      "x_grad:\n",
      " tensor([[-2., -2.],\n",
      "        [ 0.,  2.]])\n"
     ]
    }
   ],
   "source": [
    "# 求f(x) = a*x**2 + b*x + c\n",
    "\n",
    "x = torch.tensor([[0.0, 0.0], [1.0, 2.0]], requires_grad = True)\n",
    "a = torch.tensor(1.0)\n",
    "b = torch.tensor(-2.0)\n",
    "c = torch.tensor(1.0)\n",
    "y = a*torch.pow(x, 2) + b*x + c\n",
    "\n",
    "gradient = torch.tensor([[1.0, 1.0], [1.0, 1.0]])\n",
    "print(\"x:\\n\", x)\n",
    "print(\"y:\\n\", y)\n",
    "y.backward(gradient = gradient)\n",
    "dy_dx = x.grad\n",
    "print(\"x_grad:\\n\", dy_dx)"
   ]
  },
  {
   "cell_type": "markdown",
   "metadata": {},
   "source": [
    "### 3. 非标量的反向传播可以用标量的反向传播实现"
   ]
  },
  {
   "cell_type": "code",
   "execution_count": 4,
   "metadata": {},
   "outputs": [
    {
     "name": "stdout",
     "output_type": "stream",
     "text": [
      "tensor([[-2., -2.],\n",
      "        [ 0.,  2.]])\n"
     ]
    }
   ],
   "source": [
    "# f(x) = a*x**2 + b*x + c\n",
    "\n",
    "x = torch.tensor([[0.0, 0.0], [1.0, 2.0]], requires_grad = True)\n",
    "a = torch.tensor(1.0)\n",
    "b = torch.tensor(-2.0)\n",
    "c = torch.tensor(1.0)\n",
    "y = a*torch.pow(x, 2) + b*x + c\n",
    "\n",
    "gradient = torch.tensor([[1.0, 1.0], [1.0, 1.0]])\n",
    "\n",
    "z = torch.sum(y*gradient)\n",
    "z.backward()\n",
    "dy_dx = x.grad\n",
    "print(dy_dx)"
   ]
  },
  {
   "cell_type": "markdown",
   "metadata": {},
   "source": [
    "## 二、利用autograd.grad方法求导数"
   ]
  },
  {
   "cell_type": "code",
   "execution_count": 5,
   "metadata": {},
   "outputs": [
    {
     "name": "stdout",
     "output_type": "stream",
     "text": [
      "tensor(-2.)\n",
      "tensor(2.)\n"
     ]
    }
   ],
   "source": [
    "# f(x) = a*x**2 + b*x + c\n",
    "\n",
    "x = torch.tensor(0.0, requires_grad = True)\n",
    "a = torch.tensor(1.0)\n",
    "b = torch.tensor(-2.0)\n",
    "c = torch.tensor(1.0)\n",
    "y = a*torch.pow(x, 2) + b*x + c\n",
    "\n",
    "# create_graph设置为True将允许创建更高阶的导数\n",
    "dy_dx = torch.autograd.grad(y, x, create_graph=True)[0]\n",
    "print(dy_dx.data)\n",
    "\n",
    "# 求二阶导\n",
    "dy2_dx2 = torch.autograd.grad(dy_dx, x)[0]\n",
    "print(dy2_dx2.data)"
   ]
  },
  {
   "cell_type": "code",
   "execution_count": 6,
   "metadata": {},
   "outputs": [
    {
     "name": "stdout",
     "output_type": "stream",
     "text": [
      "tensor(2.) tensor(1.)\n",
      "tensor(3.) tensor(2.)\n"
     ]
    }
   ],
   "source": [
    "x1 = torch.tensor(1.0, requires_grad = True)\n",
    "x2 = torch.tensor(2.0, requires_grad = True)\n",
    "\n",
    "y1 = x1*x2\n",
    "y2 = x1+x2\n",
    "\n",
    "# 允许对多个自变量求导数\n",
    "(dy1_dx1, dy1_dx2) = torch.autograd.grad(outputs=y1, inputs=[x1, x2], retain_graph=True)\n",
    "print(dy1_dx1, dy1_dx2)\n",
    "\n",
    "# 如果有多个因变量，相当于把多个因变量的梯度结果求和\n",
    "\n",
    "(dy12_dx1, dy12_dx2) = torch.autograd.grad(outputs=[y1, y2], inputs=[x1, x2])\n",
    "print(dy12_dx1, dy12_dx2)"
   ]
  },
  {
   "cell_type": "markdown",
   "metadata": {},
   "source": [
    "## 三、利用自动微分和优化器求最小值"
   ]
  },
  {
   "cell_type": "code",
   "execution_count": 7,
   "metadata": {},
   "outputs": [
    {
     "name": "stdout",
     "output_type": "stream",
     "text": [
      "y= tensor(0.) ; x= tensor(1.0000)\n"
     ]
    }
   ],
   "source": [
    "# 求f(x) = a*x**2 + b*x + c的最小值\n",
    "\n",
    "x = torch.tensor(0.0, requires_grad = True)\n",
    "a = torch.tensor(1.0)\n",
    "b = torch.tensor(-2.0)\n",
    "c = torch.tensor(1.0)\n",
    "\n",
    "optimizer = torch.optim.SGD(params=[x], lr=0.01)\n",
    "\n",
    "# 定义函数，即loss\n",
    "def f(x):\n",
    "    result = a*torch.pow(x, 2) + b*x + c\n",
    "    return result\n",
    "\n",
    "for i in range(500):\n",
    "    optimizer.zero_grad() # 把梯度置零，也就是把loss关于weight的导数变成0\n",
    "    y = f(x)\n",
    "    y.backward()\n",
    "    optimizer.step() # 只有用了optimizer.step()，模型才会更新\n",
    "    \n",
    "print(\"y=\", f(x).data, \";\", \"x=\", x.data)"
   ]
  },
  {
   "cell_type": "code",
   "execution_count": null,
   "metadata": {},
   "outputs": [],
   "source": []
  },
  {
   "cell_type": "code",
   "execution_count": null,
   "metadata": {},
   "outputs": [],
   "source": []
  }
 ],
 "metadata": {
  "kernelspec": {
   "display_name": "Python 3",
   "language": "python",
   "name": "python3"
  },
  "language_info": {
   "codemirror_mode": {
    "name": "ipython",
    "version": 3
   },
   "file_extension": ".py",
   "mimetype": "text/x-python",
   "name": "python",
   "nbconvert_exporter": "python",
   "pygments_lexer": "ipython3",
   "version": "3.7.4"
  }
 },
 "nbformat": 4,
 "nbformat_minor": 2
}
